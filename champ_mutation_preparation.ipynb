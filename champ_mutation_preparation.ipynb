{
  "nbformat": 4,
  "nbformat_minor": 0,
  "metadata": {
    "colab": {
      "provenance": []
    },
    "kernelspec": {
      "name": "python3",
      "display_name": "Python 3"
    },
    "language_info": {
      "name": "python"
    }
  },
  "cells": [
    {
      "cell_type": "markdown",
      "source": [
        "# CHAMP Mutation list"
      ],
      "metadata": {
        "id": "89-G30xLeZam"
      }
    },
    {
      "cell_type": "markdown",
      "source": [
        "This code read the CHAMP Mutation List excel file from CDC and clean it to be easier to manipulate and with less errors. "
      ],
      "metadata": {
        "id": "xy8tcIhr59lH"
      }
    },
    {
      "cell_type": "code",
      "source": [
        "import re\n",
        "import pandas as pd\n",
        "import numpy as np"
      ],
      "metadata": {
        "id": "Dlbs1eyGeZE2"
      },
      "execution_count": 1,
      "outputs": []
    },
    {
      "cell_type": "code",
      "source": [
        "# read sheet from excel that has list off mutations from hemophilia A\n",
        "file=\"champ-mutation-list-q4.xlsx\"\n",
        "sheet=\"CHAMP Mutation List\"\n",
        "df = pd.read_excel(file, sheet)"
      ],
      "metadata": {
        "id": "rx_b9D3peyrm"
      },
      "execution_count": 2,
      "outputs": []
    },
    {
      "cell_type": "code",
      "source": [
        "# clean the columns to increase readability\n",
        "df.columns = [c.replace('\\n', ' ').replace('  ',' ').strip() for c in df.columns]"
      ],
      "metadata": {
        "id": "deBn7cbufxc6"
      },
      "execution_count": 3,
      "outputs": []
    },
    {
      "cell_type": "code",
      "source": [
        "# trim all values that are not NaN to facilitate manipulation\n",
        "df = df.applymap(lambda x: str(x).strip() if x is not np.nan else x)"
      ],
      "metadata": {
        "id": "TMFvRvdAKBi_"
      },
      "execution_count": 4,
      "outputs": []
    },
    {
      "cell_type": "code",
      "source": [
        "# function to apply regex search and return NaN if dont find it\n",
        "def re_search(regex, row):\n",
        "    r = re.search(regex, row)\n",
        "    return np.nan if r is None else str(r.group()[2:])\n",
        "\n",
        "# functions to split the HGVS Protein column\n",
        "def get_wild_aa(s):\n",
        "    return str(re.search(\"^\\D+\", s).group())\n",
        "\n",
        "def get_pos_mut(s):\n",
        "    return int(re.search(\"\\d+\", s).group())\n",
        "\n",
        "def get_new_aa(s):\n",
        "    return str(re.search(\"\\D+$\", s).group())"
      ],
      "metadata": {
        "id": "6Hg_XaPc4HHP"
      },
      "execution_count": 5,
      "outputs": []
    },
    {
      "cell_type": "code",
      "source": [
        "# define invalid values as NaN from HGVS Protein column \n",
        "regex = \"(^p.[A-Z]{1}[a-z]{2}\\d*(\\*{1}|[A-Z]{1}[a-z]{2})$)\"\n",
        "df[\"HGVS Protein\"] = df[\"HGVS Protein\"].apply(lambda s: re_search(regex, str(s)))"
      ],
      "metadata": {
        "id": "04LRY73PYeCA"
      },
      "execution_count": 6,
      "outputs": []
    },
    {
      "cell_type": "code",
      "source": [
        "# define invalid values as NaN from Reported Severity column\n",
        "df[\"Reported Severity\"] = df[\"Reported Severity\"].apply(lambda s: np.nan if '/' in s else s)\n",
        "# define invalid values as NaN from Codon column\n",
        "df[\"Codon\"] = df[\"Codon\"].apply(lambda s: np.nan if '-' in str(s) else s)"
      ],
      "metadata": {
        "id": "5UtKdKs24MKX"
      },
      "execution_count": 7,
      "outputs": []
    },
    {
      "cell_type": "code",
      "source": [
        "# list of columns filtered to use dropna method\n",
        "cols = list(df.columns)\n",
        "cols_remove = ['Severe (<1 U/dL)', 'Moderate (1-5 U/dL)', 'Mild (>5 U/dL)', 'Unclassified (no FVIII level)', 'Comments']\n",
        "for c in cols_remove:\n",
        "    cols.remove(c)\n",
        "# drop rows with NaN based on above column list\n",
        "df.dropna(inplace=True, subset=cols)"
      ],
      "metadata": {
        "id": "hqLE_fnOcgyq"
      },
      "execution_count": 8,
      "outputs": []
    },
    {
      "cell_type": "code",
      "source": [
        "# create three new columns to facilitate later manipulation\n",
        "df[\"HGVS Wild Amino Acid\"] = df[\"HGVS Protein\"].apply(lambda s: get_wild_aa(s))\n",
        "df[\"HGVS New Amino Acid\"] = df[\"HGVS Protein\"].apply(lambda s: get_new_aa(s))\n",
        "df[\"HGVS Position\"] = df[\"HGVS Protein\"].apply(lambda s: get_pos_mut(s))"
      ],
      "metadata": {
        "id": "-IrYWbg-5D5z"
      },
      "execution_count": 9,
      "outputs": []
    },
    {
      "cell_type": "code",
      "source": [
        "# list of columns filtered to use title method from string type\n",
        "cols = list(df.columns)\n",
        "cols_remove = ['HGVS Protein', 'Mature Protein', 'Domain']\n",
        "for c in cols_remove:\n",
        "    cols.remove(c)\n",
        "# capitilize strings based on above column list\n",
        "df[cols] = df[cols].applymap(lambda x: x.title() if isinstance(x, str) else x)"
      ],
      "metadata": {
        "id": "kt0VWbHbnoPl"
      },
      "execution_count": 10,
      "outputs": []
    },
    {
      "cell_type": "code",
      "source": [
        "# sort dataframe using Codon column as reference\n",
        "df['Codon'] = df['Codon'].astype('int')\n",
        "df.sort_values(inplace=True, by='Codon')"
      ],
      "metadata": {
        "id": "WkdiK4IXxoXH"
      },
      "execution_count": 11,
      "outputs": []
    },
    {
      "cell_type": "code",
      "source": [
        "# reset index because the dropped rows\n",
        "df.reset_index(inplace=True, drop=True)"
      ],
      "metadata": {
        "id": "jgEpy2RX5nbS"
      },
      "execution_count": 12,
      "outputs": []
    },
    {
      "cell_type": "code",
      "source": [
        "df.info()"
      ],
      "metadata": {
        "colab": {
          "base_uri": "https://localhost:8080/"
        },
        "id": "m3mO7aE3IWTb",
        "outputId": "c8e1525b-d2bf-4ee6-ed86-8191b117ef00"
      },
      "execution_count": 13,
      "outputs": [
        {
          "output_type": "stream",
          "name": "stdout",
          "text": [
            "<class 'pandas.core.frame.DataFrame'>\n",
            "RangeIndex: 2063 entries, 0 to 2062\n",
            "Data columns (total 23 columns):\n",
            " #   Column                         Non-Null Count  Dtype \n",
            "---  ------                         --------------  ----- \n",
            " 0   HGVS cDNA                      2063 non-null   object\n",
            " 1   hg19 Coordinates               2063 non-null   object\n",
            " 2   HGVS Protein                   2063 non-null   object\n",
            " 3   Mature Protein                 2063 non-null   object\n",
            " 4   Mutation Type                  2063 non-null   object\n",
            " 5   Mechanism                      2063 non-null   object\n",
            " 6   Exon                           2063 non-null   object\n",
            " 7   Codon                          2063 non-null   int64 \n",
            " 8   Domain                         2063 non-null   object\n",
            " 9   Subtype                        2063 non-null   object\n",
            " 10  In Poly A                      2063 non-null   object\n",
            " 11  Severe (<1 U/dL)               803 non-null    object\n",
            " 12  Moderate (1-5 U/dL)            329 non-null    object\n",
            " 13  Mild (>5 U/dL)                 536 non-null    object\n",
            " 14  Unclassified (no FVIII level)  433 non-null    object\n",
            " 15  Reported Severity              2063 non-null   object\n",
            " 16  History of Inhibitor           2063 non-null   object\n",
            " 17  Comments                       34 non-null     object\n",
            " 18  Reference ID                   2063 non-null   object\n",
            " 19  Year Reported                  2063 non-null   object\n",
            " 20  HGVS Wild Amino Acid           2063 non-null   object\n",
            " 21  HGVS New Amino Acid            2063 non-null   object\n",
            " 22  HGVS Position                  2063 non-null   int64 \n",
            "dtypes: int64(2), object(21)\n",
            "memory usage: 370.8+ KB\n"
          ]
        }
      ]
    },
    {
      "cell_type": "code",
      "source": [
        "# write the cleaned dataframe in a excel file\n",
        "df.to_excel(f\"{file[:-5]}-clean.xlsx\")"
      ],
      "metadata": {
        "id": "qoTA0AvLZGDH"
      },
      "execution_count": 14,
      "outputs": []
    }
  ]
}