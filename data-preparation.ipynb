{
  "cells": [
    {
      "cell_type": "markdown",
      "metadata": {
        "id": "89-G30xLeZam"
      },
      "source": [
        "# CHAMP Mutation list"
      ]
    },
    {
      "cell_type": "markdown",
      "metadata": {
        "id": "xy8tcIhr59lH"
      },
      "source": [
        "This code read the CHAMP Mutation List excel file from CDC and clean it to be easier to manipulate and with less errors. "
      ]
    },
    {
      "cell_type": "code",
      "execution_count": 1,
      "metadata": {
        "id": "Dlbs1eyGeZE2"
      },
      "outputs": [],
      "source": [
        "import re\n",
        "import pandas as pd\n",
        "import numpy as np"
      ]
    },
    {
      "cell_type": "code",
      "execution_count": 2,
      "metadata": {
        "id": "rx_b9D3peyrm"
      },
      "outputs": [],
      "source": [
        "# read sheet from excel that has list off mutations from hemophilia A\n",
        "file=\"champ-mutation-list-q4.xlsx\"\n",
        "sheet=\"CHAMP Mutation List\"\n",
        "df = pd.read_excel(file, sheet)"
      ]
    },
    {
      "cell_type": "code",
      "execution_count": 3,
      "metadata": {
        "id": "deBn7cbufxc6"
      },
      "outputs": [],
      "source": [
        "# clean the columns to increase readability\n",
        "df.columns = [c.replace('\\n', ' ').replace('  ',' ').strip() for c in df.columns]"
      ]
    },
    {
      "cell_type": "code",
      "execution_count": 4,
      "metadata": {
        "id": "TMFvRvdAKBi_"
      },
      "outputs": [],
      "source": [
        "# trim all values that are not NaN to facilitate manipulation\n",
        "df = df.map(lambda x: str(x).strip() if x is not np.nan else x)"
      ]
    },
    {
      "cell_type": "code",
      "execution_count": 5,
      "metadata": {
        "id": "6Hg_XaPc4HHP"
      },
      "outputs": [],
      "source": [
        "# function to apply regex search and return NaN if dont find it\n",
        "def re_search(regex, row):\n",
        "    r = re.search(regex, row)\n",
        "    return np.nan if r is None else str(r.group()[2:])\n",
        "\n",
        "# functions to split the HGVS Protein column\n",
        "def get_wild_aa(s):\n",
        "    return str(re.search(\"^\\D+\", s).group())\n",
        "\n",
        "def get_pos_mut(s):\n",
        "    return int(re.search(\"\\d+\", s).group())\n",
        "\n",
        "def get_new_aa(s):\n",
        "    return str(re.search(\"\\D+$\", s).group())"
      ]
    },
    {
      "cell_type": "code",
      "execution_count": 6,
      "metadata": {
        "id": "04LRY73PYeCA"
      },
      "outputs": [],
      "source": [
        "# define invalid values as NaN from HGVS Protein column \n",
        "regex = \"(^p.[A-Z]{1}[a-z]{2}\\d*(\\*{1}|[A-Z]{1}[a-z]{2})$)\"\n",
        "df[\"HGVS Protein\"] = df[\"HGVS Protein\"].apply(lambda s: re_search(regex, str(s)))"
      ]
    },
    {
      "cell_type": "code",
      "execution_count": 7,
      "metadata": {
        "id": "5UtKdKs24MKX"
      },
      "outputs": [],
      "source": [
        "# define invalid values as NaN from Reported Severity column\n",
        "df[\"Reported Severity\"] = df[\"Reported Severity\"].apply(lambda s: np.nan if '/' in s else s)\n",
        "# define invalid values as NaN from Codon column\n",
        "df[\"Codon\"] = df[\"Codon\"].apply(lambda s: np.nan if '-' in str(s) else s)"
      ]
    },
    {
      "cell_type": "code",
      "execution_count": 8,
      "metadata": {
        "id": "hqLE_fnOcgyq"
      },
      "outputs": [],
      "source": [
        "# list of columns filtered to use dropna method\n",
        "cols = list(df.columns)\n",
        "cols_remove = ['Severe (<1 U/dL)', 'Moderate (1-5 U/dL)', 'Mild (>5 U/dL)', 'Unclassified (no FVIII level)', 'Comments']\n",
        "for c in cols_remove:\n",
        "    cols.remove(c)\n",
        "# drop rows with NaN based on above column list\n",
        "df.dropna(inplace=True, subset=cols)"
      ]
    },
    {
      "cell_type": "code",
      "execution_count": 9,
      "metadata": {
        "id": "-IrYWbg-5D5z"
      },
      "outputs": [],
      "source": [
        "# create three new columns to facilitate later manipulation\n",
        "df[\"HGVS Wild Amino Acid\"] = df[\"HGVS Protein\"].apply(lambda s: get_wild_aa(s))\n",
        "df[\"HGVS New Amino Acid\"] = df[\"HGVS Protein\"].apply(lambda s: get_new_aa(s))\n",
        "df[\"HGVS Position\"] = df[\"HGVS Protein\"].apply(lambda s: get_pos_mut(s))"
      ]
    },
    {
      "cell_type": "code",
      "execution_count": 10,
      "metadata": {
        "id": "kt0VWbHbnoPl"
      },
      "outputs": [
        {
          "name": "stderr",
          "output_type": "stream",
          "text": [
            "/var/folders/yb/40nc7cwj2qx2lrp1gvs874bm0000gp/T/ipykernel_9398/4034558844.py:7: FutureWarning: DataFrame.applymap has been deprecated. Use DataFrame.map instead.\n",
            "  df[cols] = df[cols].applymap(lambda x: x.title() if isinstance(x, str) else x)\n"
          ]
        }
      ],
      "source": [
        "# list of columns filtered to use title method from string type\n",
        "cols = list(df.columns)\n",
        "cols_remove = ['HGVS Protein', 'Mature Protein', 'Domain']\n",
        "for c in cols_remove:\n",
        "    cols.remove(c)\n",
        "# capitilize strings based on above column list\n",
        "df[cols] = df[cols].applymap(lambda x: x.title() if isinstance(x, str) else x)"
      ]
    },
    {
      "cell_type": "code",
      "execution_count": 11,
      "metadata": {
        "id": "WkdiK4IXxoXH"
      },
      "outputs": [],
      "source": [
        "# sort dataframe using Codon column as reference\n",
        "df['Codon'] = df['Codon'].astype('int')\n",
        "df.sort_values(inplace=True, by='Codon')"
      ]
    },
    {
      "cell_type": "code",
      "execution_count": 12,
      "metadata": {
        "id": "jgEpy2RX5nbS"
      },
      "outputs": [],
      "source": [
        "# reset index because the dropped rows\n",
        "df.reset_index(inplace=True, drop=True)"
      ]
    },
    {
      "cell_type": "code",
      "execution_count": 13,
      "metadata": {},
      "outputs": [
        {
          "data": {
            "text/html": [
              "<div>\n",
              "<style scoped>\n",
              "    .dataframe tbody tr th:only-of-type {\n",
              "        vertical-align: middle;\n",
              "    }\n",
              "\n",
              "    .dataframe tbody tr th {\n",
              "        vertical-align: top;\n",
              "    }\n",
              "\n",
              "    .dataframe thead th {\n",
              "        text-align: right;\n",
              "    }\n",
              "</style>\n",
              "<table border=\"1\" class=\"dataframe\">\n",
              "  <thead>\n",
              "    <tr style=\"text-align: right;\">\n",
              "      <th></th>\n",
              "      <th>HGVS cDNA</th>\n",
              "      <th>hg19 Coordinates</th>\n",
              "      <th>HGVS Protein</th>\n",
              "      <th>Mature Protein</th>\n",
              "      <th>Mutation Type</th>\n",
              "      <th>Mechanism</th>\n",
              "      <th>Exon</th>\n",
              "      <th>Codon</th>\n",
              "      <th>Domain</th>\n",
              "      <th>Subtype</th>\n",
              "      <th>...</th>\n",
              "      <th>Mild (&gt;5 U/dL)</th>\n",
              "      <th>Unclassified (no FVIII level)</th>\n",
              "      <th>Reported Severity</th>\n",
              "      <th>History of Inhibitor</th>\n",
              "      <th>Comments</th>\n",
              "      <th>Reference ID</th>\n",
              "      <th>Year Reported</th>\n",
              "      <th>HGVS Wild Amino Acid</th>\n",
              "      <th>HGVS New Amino Acid</th>\n",
              "      <th>HGVS Position</th>\n",
              "    </tr>\n",
              "  </thead>\n",
              "  <tbody>\n",
              "    <tr>\n",
              "      <th>0</th>\n",
              "      <td>C.65G&gt;C</td>\n",
              "      <td>154250763</td>\n",
              "      <td>Arg22Thr</td>\n",
              "      <td>Arg3Thr</td>\n",
              "      <td>Missense</td>\n",
              "      <td>Substitution</td>\n",
              "      <td>1</td>\n",
              "      <td>3</td>\n",
              "      <td>A1</td>\n",
              "      <td>Heavy Chain</td>\n",
              "      <td>...</td>\n",
              "      <td>NaN</td>\n",
              "      <td>NaN</td>\n",
              "      <td>Severe</td>\n",
              "      <td>No</td>\n",
              "      <td>NaN</td>\n",
              "      <td>129</td>\n",
              "      <td>2002</td>\n",
              "      <td>Arg</td>\n",
              "      <td>Thr</td>\n",
              "      <td>22</td>\n",
              "    </tr>\n",
              "    <tr>\n",
              "      <th>1</th>\n",
              "      <td>C.64A&gt;G</td>\n",
              "      <td>154250764</td>\n",
              "      <td>Arg22Gly</td>\n",
              "      <td>Arg3Gly</td>\n",
              "      <td>Missense</td>\n",
              "      <td>Substitution</td>\n",
              "      <td>1</td>\n",
              "      <td>3</td>\n",
              "      <td>A1</td>\n",
              "      <td>Heavy Chain</td>\n",
              "      <td>...</td>\n",
              "      <td>NaN</td>\n",
              "      <td>NaN</td>\n",
              "      <td>Severe</td>\n",
              "      <td>Not Reported</td>\n",
              "      <td>NaN</td>\n",
              "      <td>187</td>\n",
              "      <td>2008</td>\n",
              "      <td>Arg</td>\n",
              "      <td>Gly</td>\n",
              "      <td>22</td>\n",
              "    </tr>\n",
              "    <tr>\n",
              "      <th>2</th>\n",
              "      <td>C.65G&gt;T</td>\n",
              "      <td>154250763</td>\n",
              "      <td>Arg22Ile</td>\n",
              "      <td>Arg3Ile</td>\n",
              "      <td>Missense</td>\n",
              "      <td>Substitution</td>\n",
              "      <td>1</td>\n",
              "      <td>3</td>\n",
              "      <td>A1</td>\n",
              "      <td>Heavy Chain</td>\n",
              "      <td>...</td>\n",
              "      <td>X</td>\n",
              "      <td>NaN</td>\n",
              "      <td>Mild</td>\n",
              "      <td>No</td>\n",
              "      <td>NaN</td>\n",
              "      <td>H</td>\n",
              "      <td>H</td>\n",
              "      <td>Arg</td>\n",
              "      <td>Ile</td>\n",
              "      <td>22</td>\n",
              "    </tr>\n",
              "    <tr>\n",
              "      <th>3</th>\n",
              "      <td>C.67A&gt;G</td>\n",
              "      <td>154250761</td>\n",
              "      <td>Arg23Gly</td>\n",
              "      <td>Arg4Gly</td>\n",
              "      <td>Missense</td>\n",
              "      <td>Substitution</td>\n",
              "      <td>1</td>\n",
              "      <td>4</td>\n",
              "      <td>A1</td>\n",
              "      <td>Heavy Chain</td>\n",
              "      <td>...</td>\n",
              "      <td>X</td>\n",
              "      <td>NaN</td>\n",
              "      <td>Mild</td>\n",
              "      <td>No</td>\n",
              "      <td>NaN</td>\n",
              "      <td>H</td>\n",
              "      <td>H</td>\n",
              "      <td>Arg</td>\n",
              "      <td>Gly</td>\n",
              "      <td>23</td>\n",
              "    </tr>\n",
              "    <tr>\n",
              "      <th>4</th>\n",
              "      <td>C.72C&gt;G</td>\n",
              "      <td>154250756</td>\n",
              "      <td>Tyr24*</td>\n",
              "      <td>Tyr5*</td>\n",
              "      <td>Nonsense</td>\n",
              "      <td>Substitution</td>\n",
              "      <td>1</td>\n",
              "      <td>5</td>\n",
              "      <td>A1</td>\n",
              "      <td>Heavy Chain</td>\n",
              "      <td>...</td>\n",
              "      <td>NaN</td>\n",
              "      <td>NaN</td>\n",
              "      <td>Severe</td>\n",
              "      <td>Not Reported</td>\n",
              "      <td>NaN</td>\n",
              "      <td>260</td>\n",
              "      <td>2014</td>\n",
              "      <td>Tyr</td>\n",
              "      <td>*</td>\n",
              "      <td>24</td>\n",
              "    </tr>\n",
              "  </tbody>\n",
              "</table>\n",
              "<p>5 rows × 23 columns</p>\n",
              "</div>"
            ],
            "text/plain": [
              "  HGVS cDNA hg19 Coordinates HGVS Protein Mature Protein Mutation Type  \\\n",
              "0   C.65G>C        154250763     Arg22Thr        Arg3Thr      Missense   \n",
              "1   C.64A>G        154250764     Arg22Gly        Arg3Gly      Missense   \n",
              "2   C.65G>T        154250763     Arg22Ile        Arg3Ile      Missense   \n",
              "3   C.67A>G        154250761     Arg23Gly        Arg4Gly      Missense   \n",
              "4   C.72C>G        154250756       Tyr24*          Tyr5*      Nonsense   \n",
              "\n",
              "      Mechanism Exon  Codon Domain      Subtype  ... Mild (>5 U/dL)  \\\n",
              "0  Substitution    1      3     A1  Heavy Chain  ...            NaN   \n",
              "1  Substitution    1      3     A1  Heavy Chain  ...            NaN   \n",
              "2  Substitution    1      3     A1  Heavy Chain  ...              X   \n",
              "3  Substitution    1      4     A1  Heavy Chain  ...              X   \n",
              "4  Substitution    1      5     A1  Heavy Chain  ...            NaN   \n",
              "\n",
              "  Unclassified (no FVIII level) Reported Severity History of Inhibitor  \\\n",
              "0                           NaN            Severe                   No   \n",
              "1                           NaN            Severe         Not Reported   \n",
              "2                           NaN              Mild                   No   \n",
              "3                           NaN              Mild                   No   \n",
              "4                           NaN            Severe         Not Reported   \n",
              "\n",
              "  Comments Reference ID Year Reported HGVS Wild Amino Acid  \\\n",
              "0      NaN          129          2002                  Arg   \n",
              "1      NaN          187          2008                  Arg   \n",
              "2      NaN            H             H                  Arg   \n",
              "3      NaN            H             H                  Arg   \n",
              "4      NaN          260          2014                  Tyr   \n",
              "\n",
              "  HGVS New Amino Acid HGVS Position  \n",
              "0                 Thr            22  \n",
              "1                 Gly            22  \n",
              "2                 Ile            22  \n",
              "3                 Gly            23  \n",
              "4                   *            24  \n",
              "\n",
              "[5 rows x 23 columns]"
            ]
          },
          "execution_count": 13,
          "metadata": {},
          "output_type": "execute_result"
        }
      ],
      "source": [
        "df.head()"
      ]
    },
    {
      "cell_type": "code",
      "execution_count": 14,
      "metadata": {
        "colab": {
          "base_uri": "https://localhost:8080/"
        },
        "id": "m3mO7aE3IWTb",
        "outputId": "c8e1525b-d2bf-4ee6-ed86-8191b117ef00"
      },
      "outputs": [
        {
          "name": "stdout",
          "output_type": "stream",
          "text": [
            "<class 'pandas.core.frame.DataFrame'>\n",
            "RangeIndex: 2063 entries, 0 to 2062\n",
            "Data columns (total 23 columns):\n",
            " #   Column                         Non-Null Count  Dtype \n",
            "---  ------                         --------------  ----- \n",
            " 0   HGVS cDNA                      2063 non-null   object\n",
            " 1   hg19 Coordinates               2063 non-null   object\n",
            " 2   HGVS Protein                   2063 non-null   object\n",
            " 3   Mature Protein                 2063 non-null   object\n",
            " 4   Mutation Type                  2063 non-null   object\n",
            " 5   Mechanism                      2063 non-null   object\n",
            " 6   Exon                           2063 non-null   object\n",
            " 7   Codon                          2063 non-null   int64 \n",
            " 8   Domain                         2063 non-null   object\n",
            " 9   Subtype                        2063 non-null   object\n",
            " 10  In Poly A                      2063 non-null   object\n",
            " 11  Severe (<1 U/dL)               803 non-null    object\n",
            " 12  Moderate (1-5 U/dL)            329 non-null    object\n",
            " 13  Mild (>5 U/dL)                 536 non-null    object\n",
            " 14  Unclassified (no FVIII level)  433 non-null    object\n",
            " 15  Reported Severity              2063 non-null   object\n",
            " 16  History of Inhibitor           2063 non-null   object\n",
            " 17  Comments                       34 non-null     object\n",
            " 18  Reference ID                   2063 non-null   object\n",
            " 19  Year Reported                  2063 non-null   object\n",
            " 20  HGVS Wild Amino Acid           2063 non-null   object\n",
            " 21  HGVS New Amino Acid            2063 non-null   object\n",
            " 22  HGVS Position                  2063 non-null   int64 \n",
            "dtypes: int64(2), object(21)\n",
            "memory usage: 370.8+ KB\n"
          ]
        }
      ],
      "source": [
        "df.info()"
      ]
    },
    {
      "cell_type": "code",
      "execution_count": 15,
      "metadata": {
        "id": "qoTA0AvLZGDH"
      },
      "outputs": [],
      "source": [
        "# write the cleaned dataframe in a excel file\n",
        "df.to_excel(f\"{file[:-5]}-clean.xlsx\")"
      ]
    }
  ],
  "metadata": {
    "colab": {
      "provenance": []
    },
    "kernelspec": {
      "display_name": "Python 3",
      "name": "python3"
    },
    "language_info": {
      "codemirror_mode": {
        "name": "ipython",
        "version": 3
      },
      "file_extension": ".py",
      "mimetype": "text/x-python",
      "name": "python",
      "nbconvert_exporter": "python",
      "pygments_lexer": "ipython3",
      "version": "3.11.9"
    }
  },
  "nbformat": 4,
  "nbformat_minor": 0
}
